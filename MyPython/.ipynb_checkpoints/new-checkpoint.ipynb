{
 "cells": [
  {
   "cell_type": "code",
   "execution_count": 2,
   "id": "d5de1ab7-8211-459b-8cdb-537145bc8d2a",
   "metadata": {},
   "outputs": [
    {
     "name": "stdout",
     "output_type": "stream",
     "text": [
      "Welcome To Riphah\n"
     ]
    }
   ],
   "source": [
    "print(\"Welcome To Riphah\")"
   ]
  },
  {
   "cell_type": "code",
   "execution_count": 3,
   "id": "cb06fdbd-1356-41e3-9824-f45eb9dae6f5",
   "metadata": {},
   "outputs": [
    {
     "name": "stdout",
     "output_type": "stream",
     "text": [
      "I love my university\n"
     ]
    }
   ],
   "source": [
    "print(\"I love my university\")"
   ]
  },
  {
   "cell_type": "code",
   "execution_count": null,
   "id": "5b7837e7-eb56-4a31-9073-087f42cdc908",
   "metadata": {},
   "outputs": [],
   "source": []
  }
 ],
 "metadata": {
  "kernelspec": {
   "display_name": "Python 3 (ipykernel)",
   "language": "python",
   "name": "python3"
  },
  "language_info": {
   "codemirror_mode": {
    "name": "ipython",
    "version": 3
   },
   "file_extension": ".py",
   "mimetype": "text/x-python",
   "name": "python",
   "nbconvert_exporter": "python",
   "pygments_lexer": "ipython3",
   "version": "3.11.5"
  }
 },
 "nbformat": 4,
 "nbformat_minor": 5
}
